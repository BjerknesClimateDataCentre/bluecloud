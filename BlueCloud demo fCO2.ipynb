{
 "cells": [
  {
   "cell_type": "code",
   "execution_count": 1,
   "id": "e2cda9db",
   "metadata": {},
   "outputs": [],
   "source": [
    "import time\n",
    "import numpy as np\n",
    "import matplotlib.pyplot as plt\n",
    "import pandas as pd\n",
    "import netCDF4\n",
    "\n",
    "import PyCO2SYS as pyco2\n",
    "\n",
    "from erddapy import ERDDAP\n",
    "from erddapy.doc_helpers import show_iframe\n",
    "\n",
    "import cartopy\n",
    "cartopy.config['data_dir'] = './maps'\n",
    "import cartopy.crs as ccrs\n",
    "from cartopy.feature import NaturalEarthFeature\n",
    "import cartopy.feature as feat"
   ]
  },
  {
   "cell_type": "code",
   "execution_count": null,
   "id": "1506ee43",
   "metadata": {},
   "outputs": [],
   "source": [
    "# Subset arguments\n",
    "datasources = ['SOCAT']#, 'GLODAP'] #EMODNet #\n",
    "variables = ['FCO2']#PHPH #P09 VOCAB\n",
    "\n",
    "subset = True\n",
    "minlat=-90\n",
    "maxlat=90\n",
    "minlon=-180\n",
    "maxlon=180\n",
    "mindate='1986-06-28T00:00:00Z'\n",
    "maxdate='1989-06-28T00:00:00Z'\n",
    "\n",
    "\n",
    "vardict ={'id':'ID', 'doi':'Source_DOI','datevec':'DATEVECTOR','unixd':'UNIXDATE',\n",
    "          'lat':'LATITUDE','lon':'LONGITUDE','dep':'DEPTH',\n",
    "          'temp':'TEMPERATURE','sal':'SALINITY','salf':'SALINITY_FLAG',\n",
    "          'dic' : 'DIC', 'dicf':'DIC_FLAG', 'dicc':'DIC_CALCULATION',\n",
    "          'alk': 'ALKALINITY', 'alkf':'ALKALINTY_FLAG', 'alkc':'ALKALINITY_CALCULATION',\n",
    "          'ph': 'pH_TS','phf': 'pH_FLAG','phc': 'pH_CALCULATION',\n",
    "          'fco2w':'FCO2_W','fco2wf':'FCO2W_FLAG','fco2wc': 'FCO2_CALCULATION','fco2wac':'ACCURACY_FCO2',}\n",
    "\n",
    "vardictCF={}\n",
    "\n",
    "\n",
    "outputvars=[\n",
    "     vardict['id'], vardict['doi'], 'SOURCE',\n",
    "     vardict['datevec'], vardict['unixd'], vardict['lat'], vardict['lon'],\n",
    "     vardict['dep'], vardict['temp'], vardict['sal'], vardict['salf'],\n",
    "     vardict['fco2w'], vardict['fco2wf'], vardict['fco2wc'], vardict['fco2wac'],\n",
    "     vardict['dic'], vardict['dicf'], vardict['dicc'],\n",
    "     vardict['alk'], vardict['alkf'], vardict['alkc'],\n",
    "     vardict['ph'], vardict['phf'], vardict['phc']]"
   ]
  },
  {
   "cell_type": "code",
   "execution_count": null,
   "id": "2df8e9b4",
   "metadata": {},
   "outputs": [],
   "source": [
    "\n"
   ]
  },
  {
   "cell_type": "markdown",
   "id": "d74d654a",
   "metadata": {},
   "source": [
    "## fCO2 from SOCAT (Time series from Station M, observations from 2015, 2000 vs 2020)"
   ]
  },
  {
   "cell_type": "code",
   "execution_count": null,
   "id": "f731a8f6",
   "metadata": {},
   "outputs": [],
   "source": [
    "socatdoi='10.25921/yg69-jd96' # The SOCAT collection DOI info is not in ERDDAP (or can't find it)\n",
    "flagaccuracy = {\"A\": 2.0, \"B\": 2.0, \"C\": 5.0, \"D\": 5.0, \"E\": 10.0}"
   ]
  },
  {
   "cell_type": "code",
   "execution_count": null,
   "id": "d6396eb0",
   "metadata": {},
   "outputs": [],
   "source": [
    "e = ERDDAP(\n",
    "        server='https://data.pmel.noaa.gov/socat/erddap',\n",
    "        protocol='tabledap',\n",
    "    )\n",
    "\n",
    "e.response = 'csv'\n",
    "e.dataset_id = 'socat_v2021_fulldata' # observations\n",
    "e.constraints = {\n",
    "        'platform_name=': \"Station M\",\n",
    "        'WOCE_CO2_water=': \"2\" # only data flagged as \"good\"\n",
    "    }\n",
    "e.variables = ['expocode','time','latitude','longitude','depth','sal','temp',\n",
    "                   'fCO2_recommended','qc_flag','WOCE_CO2_water','socat_doi']\n",
    "\n",
    "tempdf = e.to_pandas(dtype={10: str, 8: str, 0: str})\n",
    "\n",
    "    # Retain only valid fco2 values (can't figure out how to do it in erdappy constrains yet)\n",
    "tempdf=tempdf.dropna(subset=['fCO2_recommended (uatm)']).copy()\n",
    "tempdf.reset_index(drop=True, inplace=True)\n",
    "\n",
    "    # Rename columns\n",
    "tempdf.rename(\n",
    "        columns={'expocode': vardict['id'], 'socat_doi':vardict['doi'],\n",
    "                 'latitude (degrees_north)': vardict['lat'], 'longitude (degrees_east)': vardict['lon'],\n",
    "                 'depth (m)': vardict['dep'], 'temp (degrees C)': vardict['temp'], 'sal (PSU)': vardict['sal'],\n",
    "                 'fCO2_recommended (uatm)': vardict['fco2w'], 'WOCE_CO2_water': vardict['fco2wf'],\n",
    "                 'qc_flag':'Cruise_flag'},\n",
    "        inplace=True)\n",
    "\n",
    "commonvars = [i for i in outputvars if i in tempdf.columns]\n",
    "socat_sm = tempdf.copy()\n",
    "socat_sm['DATEVECTOR1'] = pd.to_datetime(socat_sm['time (UTC)'])\n",
    "\n",
    "    # Create python date object\n",
    "#tempdf['DATEVECTOR1'] = pd.to_datetime(tempdf['time (UTC)'])\n",
    "#tempdf[vardict['unixd']] = tempdf['DATEVECTOR1'].astype('int64') // 10 ** 9\n",
    "#tempdf[vardict['datevec']] = tempdf['DATEVECTOR1'].dt.strftime('%Y-%m-%dT%H:%M:%SZ')"
   ]
  },
  {
   "cell_type": "code",
   "execution_count": null,
   "id": "c8b36297",
   "metadata": {},
   "outputs": [],
   "source": []
  },
  {
   "cell_type": "code",
   "execution_count": null,
   "id": "fcbf3fd1",
   "metadata": {},
   "outputs": [],
   "source": []
  },
  {
   "cell_type": "code",
   "execution_count": null,
   "id": "fbeb4037",
   "metadata": {},
   "outputs": [],
   "source": [
    "plt.figure(figsize=(12,6))\n",
    "ax = plt.axes()\n",
    "socat_sm.plot(x='DATEVECTOR1', y=vardict['fco2w'],ax=ax, \n",
    "                linestyle='None', marker='o',grid='on', legend=True)\n",
    "plt.show()\n",
    "\n",
    "\n"
   ]
  },
  {
   "cell_type": "code",
   "execution_count": null,
   "id": "f81af05b",
   "metadata": {},
   "outputs": [],
   "source": [
    "# SOCAT grid\n"
   ]
  },
  {
   "cell_type": "code",
   "execution_count": null,
   "id": "19b33edc",
   "metadata": {},
   "outputs": [],
   "source": []
  },
  {
   "cell_type": "code",
   "execution_count": null,
   "id": "3b8dbdbd",
   "metadata": {},
   "outputs": [],
   "source": []
  },
  {
   "cell_type": "code",
   "execution_count": null,
   "id": "75c75f90",
   "metadata": {},
   "outputs": [],
   "source": [
    "e.constraints = {\n",
    "        'time>=': mindate,\n",
    "        'time<=': maxdate,\n",
    "        'latitude>=': minlat,\n",
    "        'latitude<=': maxlat,\n",
    "        'longitude>=': minlon,\n",
    "        'longitude<=': maxlon,\n",
    "        'WOCE_CO2_water=': \"2\" # only data flagged as \"good\"\n",
    "    }\n",
    "\n",
    "tempdf = e.to_pandas(dtype={10: str, 8: str, 0: str})\n",
    "\n",
    "    # Retain only valid fco2 values (can't figure out how to do it in erdappy constrains yet)\n",
    "tempdf=tempdf.dropna(subset=['fCO2_recommended (uatm)']).copy()\n",
    "tempdf.reset_index(drop=True, inplace=True)\n",
    "\n",
    "    # Rename columns\n",
    "tempdf.rename(\n",
    "        columns={'expocode': vardict['id'], 'socat_doi':vardict['doi'],\n",
    "                 'latitude (degrees_north)': vardict['lat'], 'longitude (degrees_east)': vardict['lon'],\n",
    "                 'depth (m)': vardict['dep'], 'temp (degrees C)': vardict['temp'], 'sal (PSU)': vardict['sal'],\n",
    "                 'fCO2_recommended (uatm)': vardict['fco2w'], 'WOCE_CO2_water': vardict['fco2wf'],\n",
    "                 'qc_flag':'Cruise_flag'},\n",
    "        inplace=True)\n",
    "\n",
    "commonvars = [i for i in outputvars if i in tempdf.columns]\n",
    "socat_area = tempdf.copy()\n",
    "socat_area['DATEVECTOR1'] = pd.to_datetime(socat_area['time (UTC)'])"
   ]
  },
  {
   "cell_type": "code",
   "execution_count": null,
   "id": "c423af6e",
   "metadata": {},
   "outputs": [],
   "source": [
    "plt.figure(figsize=(12,6))\n",
    "ax = plt.axes()\n",
    "socat_area.plot(x='DATEVECTOR1', y=vardict['fco2w'],ax=ax, \n",
    "                linestyle='None', marker='o',grid='on', legend=True)\n",
    "plt.show()"
   ]
  },
  {
   "cell_type": "code",
   "execution_count": null,
   "id": "9df53ff3",
   "metadata": {},
   "outputs": [],
   "source": [
    "df=socat_area.copy()\n",
    "\n",
    "proj=ccrs.cartopy.crs.Miller()\n",
    "plt.figure(dpi=150)\n",
    "ax = plt.axes(projection=proj)\n",
    "if ((minlon != -180) & (maxlon != 180) & (minlat !=-90) & (maxlat != 90)) :\n",
    "    ax.set_extent([minlon-5,maxlon+5, \n",
    "                   maxlat+5,minlat-5])\n",
    "ax.stock_img()\n",
    "ax.coastlines()\n",
    "sc=ax.scatter(df[vardict['lon']],df[vardict['lat']],\n",
    "              c=df[vardict['fco2w']],s=0.2, label= \"fCO2 (uatm)\",\n",
    "             transform=ccrs.PlateCarree())\n",
    "plt.colorbar(sc)\n",
    "ax.legend()\n",
    "plt.show()"
   ]
  },
  {
   "cell_type": "code",
   "execution_count": 77,
   "id": "d5a68565",
   "metadata": {},
   "outputs": [
    {
     "data": {
      "text/plain": [
       "ValueError('Cannot use ncCF with griddap.')"
      ]
     },
     "execution_count": 77,
     "metadata": {},
     "output_type": "execute_result"
    }
   ],
   "source": [
    "#import netCDF4\n",
    "socat_g = ERDDAP(\n",
    "  server='http://erddap.sochic-h2020.eu/erddap',\n",
    "  protocol='griddap',\n",
    "  response=\"opendap\",\n",
    "\n",
    ")\n",
    "socat_g.dataset_id = 'SOCATv2020_tracks_gridded_decadal'\n",
    "\n",
    "df_socatgrid = socat_g.to_pandas()\n",
    "df_socatgrid\n",
    "\n"
   ]
  },
  {
   "cell_type": "code",
   "execution_count": 76,
   "id": "bc0bb0b8",
   "metadata": {},
   "outputs": [
    {
     "data": {
      "text/plain": [
       "<cartopy.mpl.feature_artist.FeatureArtist at 0x120b6b5e0>"
      ]
     },
     "execution_count": 76,
     "metadata": {},
     "output_type": "execute_result"
    },
    {
     "data": {
      "image/png": "[encoded data removed]",
      "text/plain": [
       "<Figure size 432x288 with 2 Axes>"
      ]
     },
     "metadata": {
      "needs_background": "light"
     },
     "output_type": "display_data"
    }
   ],
   "source": [
    "\n",
    "fco2plot=df_socatgrid['fco2_ave_weighted_decade']\n",
    "p = fco2plot.isel(time=4).plot(\n",
    "   subplot_kws=dict(projection=ccrs.PlateCarree(), facecolor=\"gray\"),\n",
    "   transform=ccrs.PlateCarree(),\n",
    "  )\n",
    "p.axes.set_global()\n",
    "p.axes.coastlines()\n"
   ]
  },
  {
   "cell_type": "code",
   "execution_count": null,
   "id": "5c248789",
   "metadata": {},
   "outputs": [],
   "source": []
  },
  {
   "cell_type": "markdown",
   "id": "f6364969",
   "metadata": {},
   "source": [
    "## GLODAP observations surface fCO2 and gridded"
   ]
  },
  {
   "cell_type": "code",
   "execution_count": null,
   "id": "8a4cc2b1",
   "metadata": {},
   "outputs": [],
   "source": [
    "filespathremote = 'https://www.ncei.noaa.gov/data/oceans/ncei/ocads/data/0237935/' #only applicable to GLODAP for now\n"
   ]
  },
  {
   "cell_type": "code",
   "execution_count": null,
   "id": "6a1f2e90",
   "metadata": {},
   "outputs": [],
   "source": []
  },
  {
   "cell_type": "code",
   "execution_count": null,
   "id": "5d60ab0f",
   "metadata": {},
   "outputs": [],
   "source": []
  },
  {
   "cell_type": "code",
   "execution_count": null,
   "id": "b6d3f6c0",
   "metadata": {},
   "outputs": [],
   "source": [
    "starttime=time.time()\n",
    "# Find column header line number\n",
    "for ds in datasources:\n",
    "\n",
    "    if ('SOCAT' in ds):\n",
    "        source='SOCATv2021'\n",
    "        %run ./BlueCloud_importSOCAT.ipynb\n",
    "\n",
    "    elif ('GLODAP' in ds):\n",
    "        source='GLODAPv2.2021'\n",
    "        exec(open(\"importGLODAP.py\").read())\n",
    "\n",
    "#    if 'df' not in globals():\n",
    "#        df = printdf\n",
    "#    else:\n",
    "#        df = df.append(printdf)\n"
   ]
  },
  {
   "cell_type": "code",
   "execution_count": null,
   "id": "49abfb72",
   "metadata": {},
   "outputs": [],
   "source": [
    "# Change format to integer for flags\n",
    "#allflags=[vardict['salf']]\n",
    "#df[vardict['salf']] = df[vardict['salf']].astype('UInt8')\n",
    "#df[vardict['dicf']] = df[vardict['dicf']].astype('UInt8')\n",
    "#df[vardict['alkf']] = df[vardict['alkf']].astype('UInt8')\n",
    "#df[vardict['phf']] = df[vardict['phf']].astype('UInt8')\n",
    "df[vardict['fco2wf']] = df[vardict['fco2wf']].astype('UInt8')\n",
    "#df[vardict['fco2wc']] = df[vardict['fco2wc']].astype('UInt8')\n",
    "\n",
    "# Keep only wanted columns\n",
    "\n",
    "commonvars = [i for i in outputvars if i in df.columns]\n",
    "df = df[commonvars].copy()\n"
   ]
  },
  {
   "cell_type": "code",
   "execution_count": null,
   "id": "6da19205",
   "metadata": {},
   "outputs": [],
   "source": [
    "plt.figure(figsize=(12,6))\n",
    "ax = plt.axes()\n",
    "printdf.plot(x='DATEVECTOR1', y=vardict['fco2w'],ax=ax, \n",
    "                linestyle='None', marker='o',grid='on', legend=True)\n",
    "plt.show()"
   ]
  },
  {
   "cell_type": "code",
   "execution_count": null,
   "id": "cc913d7b",
   "metadata": {},
   "outputs": [],
   "source": [
    "printdf.DATEVECTOR1.astype"
   ]
  },
  {
   "cell_type": "code",
   "execution_count": null,
   "id": "8646245f",
   "metadata": {},
   "outputs": [],
   "source": [
    "proj=ccrs.cartopy.crs.Miller()\n",
    "plt.figure(dpi=150)\n",
    "ax = plt.axes(projection=proj)\n",
    "if ((minlon != -180) & (maxlon != 180) & (minlat !=-90) & (maxlat != 90)) :\n",
    "    ax.set_extent([minlon-5,maxlon+5, \n",
    "                   maxlat+5,minlat-5])\n",
    "ax.stock_img()\n",
    "ax.coastlines()\n",
    "sc=ax.scatter(df[vardict['lon']],df[vardict['lat']],\n",
    "              c=df[vardict['fco2w']],s=0.2, label= \"fCO2 (uatm)\",\n",
    "             transform=ccrs.PlateCarree())\n",
    "plt.colorbar(sc)\n",
    "ax.legend()\n",
    "plt.show()"
   ]
  }
 ],
 "metadata": {
  "kernelspec": {
   "display_name": "Python 3 (ipykernel)",
   "language": "python",
   "name": "python3"
  },
  "language_info": {
   "codemirror_mode": {
    "name": "ipython",
    "version": 3
   },
   "file_extension": ".py",
   "mimetype": "text/x-python",
   "name": "python",
   "nbconvert_exporter": "python",
   "pygments_lexer": "ipython3",
   "version": "3.9.7"
  }
 },
 "nbformat": 4,
 "nbformat_minor": 5
}
