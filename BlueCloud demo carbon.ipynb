{
 "cells": [
  {
   "cell_type": "markdown",
   "id": "aff99363",
   "metadata": {},
   "source": [
    "Import libraries"
   ]
  },
  {
   "cell_type": "code",
   "execution_count": 1,
   "id": "ccddf96a",
   "metadata": {},
   "outputs": [],
   "source": [
    "import time\n",
    "from urllib.error import HTTPError\n",
    "from urllib.error import URLError\n",
    "\n",
    "import numpy as np\n",
    "import matplotlib.pyplot as plt\n",
    "import pandas as pd\n",
    "import netCDF4\n",
    "\n",
    "import PyCO2SYS as pyco2\n",
    "\n",
    "from erddapy import ERDDAP\n",
    "from erddapy.doc_helpers import show_iframe\n",
    "from erddapy import servers\n",
    "\n",
    "import cartopy\n",
    "cartopy.config['data_dir'] = './maps'\n",
    "import cartopy.crs as ccrs\n",
    "from cartopy.feature import NaturalEarthFeature\n",
    "import cartopy.feature as feat"
   ]
  },
  {
   "cell_type": "markdown",
   "id": "85317043",
   "metadata": {},
   "source": [
    "Retrieve list of erddap servers that have carbon variables, using the CF standard names. Quicker using erddap.com"
   ]
  },
  {
   "cell_type": "code",
   "execution_count": null,
   "id": "dc9b7f35",
   "metadata": {},
   "outputs": [],
   "source": [
    "stdnames=['surface_partial_pressure_of_carbon_dioxide_in_sea_water',\n",
    "    'fugacity_of_carbon_dioxide_in_sea_water',\n",
    "    'mole_concentration_of_dissolved_inorganic_carbon_in_sea_water',\n",
    "    'moles_of_dissolved_inorganic_carbon_per_unit_mass_in_sea_water',\n",
    "    'sea_water_ph_reported_on_total_scale',\n",
    "    'sea_water_alkalinity_expressed_as_mole_equivalent']\n",
    "\n",
    "starttime=time.time()\n",
    "\n",
    "for s in servers:\n",
    "    e=ERDDAP(s)\n",
    "    for v in stdnames:\n",
    "        kw= {\"standard_name\": v}\n",
    "        search_url = e.get_search_url(response=\"csv\", **kw)\n",
    "        try:\n",
    "            search=pd.read_csv(search_url)\n",
    "        except HTTPError:\n",
    "            pass\n",
    "            #print(\"No\", stdname, \"data in the server\", s)\n",
    "        except URLError:\n",
    "            pass\n",
    "            #print(s,\"throws an URL error\")\n",
    "        else:\n",
    "            print(s,\"has\", {len(set(search[\"tabledap\"].dropna()))},\"tabledap datasets with\",v)\n",
    "            print(search[[\"Dataset ID\",\"Title\"]])\n",
    "            if len(set(search[\"griddap\"].dropna())) > 0:\n",
    "                print(s,\"has\", {len(set(search[\"griddap\"].dropna()))},\"tabledap datasets with\",v)\n",
    "\n",
    "            \n",
    "\n",
    "endtime=time.time()-starttime\n",
    "print(\"\\n Search took\", endtime/60,\"minutes\")\n"
   ]
  },
  {
   "cell_type": "markdown",
   "id": "c502ab5e",
   "metadata": {},
   "source": [
    "Create a dictionary in order to rename all columns to the same"
   ]
  },
  {
   "cell_type": "code",
   "execution_count": 2,
   "id": "9424ac1f",
   "metadata": {},
   "outputs": [],
   "source": [
    "vardict ={'id':'ID', 'doi':'Source_DOI','datevec':'DATEVECTOR','unixd':'UNIXDATE',\n",
    "          'lat':'LATITUDE','lon':'LONGITUDE','dep':'DEPTH', 'pres':'PRESSURE',\n",
    "          'temp':'TEMPERATURE', 'tempf':'TEMPERATURE_FLAG',\n",
    "          'sal':'SALINITY','salf':'SALINITY_FLAG',\n",
    "          'dic' : 'DIC', 'dicf':'DIC_FLAG', 'dicc':'DIC_CALCULATION',\n",
    "          'alk': 'ALKALINITY', 'alkf':'ALKALINTY_FLAG', 'alkc':'ALKALINITY_CALCULATION',\n",
    "          'ph': 'pH_TS','phf': 'pH_FLAG','phc': 'pH_CALCULATION',\n",
    "          'fco2w':'FCO2_W','fco2wf':'FCO2W_FLAG','fco2wc': 'FCO2_CALCULATION','fco2wac':'ACCURACY_FCO2',}"
   ]
  },
  {
   "cell_type": "markdown",
   "id": "11d63d60",
   "metadata": {},
   "source": [
    "Get list of datasets that contain pH. Constrain by a particular time frame to avoid downloading a too large dataset"
   ]
  },
  {
   "cell_type": "code",
   "execution_count": 19,
   "id": "e0039178",
   "metadata": {},
   "outputs": [
    {
     "name": "stdout",
     "output_type": "stream",
     "text": [
      "[['EMODnet Physics - Collection of  (PHPH) TimeSeries  Min/Max/Mean -  MultiPointTimeSeriesObservation'\n",
      "  'EP_ERD_INT_PHPH_AL_TS_MINMAXMEAN']\n",
      " ['EMODnet Physics - Collection of Ph (PHPH) Profiles -  MultiPointProfileObservation'\n",
      "  'EP_ERD_INT_PHPH_AL_PR_NRT']\n",
      " ['EMODnet Physics - Collection of Ph (PHPH) TimeSeries -  MultiPointTimeSeriesObservation'\n",
      "  'EP_ERD_INT_PHPH_AL_TS_NRT']]\n"
     ]
    }
   ],
   "source": [
    "i = ERDDAP(server=\"EMODNET\", protocol='tabledap')\n",
    "search_url = i.get_search_url(response=\"csv\", **{\n",
    "    \"standard_name\": \"sea_water_ph_reported_on_total_scale\",\n",
    "    \"min_time\": \"2019-03-01\",\n",
    "    \"max_time\": \"2019-03-15\"})\n",
    "search = pd.read_csv(search_url)\n",
    "print(search[[\"Title\",\"Dataset ID\"]].values)"
   ]
  },
  {
   "cell_type": "markdown",
   "id": "dd94d414",
   "metadata": {},
   "source": [
    "Get information about the dataset EP_ERD_INT_PHPH_AL_PR_NRT: variable names, time coverage, pH attributes"
   ]
  },
  {
   "cell_type": "code",
   "execution_count": 21,
   "id": "1062cf9a",
   "metadata": {},
   "outputs": [
    {
     "name": "stdout",
     "output_type": "stream",
     "text": [
      "EP_PLATFORM_ID, EP_PLATFORM_TYPE, EP_PLATFORM_CODE, EP_PLATFORM_LINK, time, TIME_QC, depth, DEPTH_QC, pres, PRES_QC, latitude, longitude, POSITION_QC, DIRECTION, PHPH, PHPH_QC, PHPH_DM, site_code, platform_code, platform_name, pi_name, area, author, source, contributor_name, contributor_url, data_assembly_center, institution_edmo_code, institution_references, institution, wmo_platform_code\n",
      "\n",
      "\n",
      "61    1921-09-12T19:00:00Z\n",
      "Name: Value, dtype: object\n",
      "60    2021-10-09T23:57:14Z\n",
      "Name: Value, dtype: object\n",
      "\n",
      "\n",
      "      Row Type Variable Name        Attribute Name Data Type  \\\n",
      "166   variable          PHPH                   NaN     float   \n",
      "167  attribute          PHPH            _FillValue     float   \n",
      "168  attribute          PHPH          actual_range     float   \n",
      "169  attribute          PHPH    ep_parameter_group    String   \n",
      "170  attribute          PHPH             long_name    String   \n",
      "171  attribute          PHPH         missing_value     float   \n",
      "172  attribute          PHPH                   SDN    String   \n",
      "173  attribute          PHPH  source_variable_name    String   \n",
      "174  attribute          PHPH         standard_name    String   \n",
      "175  attribute          PHPH                 units    String   \n",
      "\n",
      "                                    Value  \n",
      "166                                   NaN  \n",
      "167                            9.96921E36  \n",
      "168                    -31.728, 19297.486  \n",
      "169    Water conductivity/ BioGeoChemical  \n",
      "170                                    ph  \n",
      "171                            9.96921E36  \n",
      "172                     SDN:P01::PHXXZZXX  \n",
      "173                                  PHPH  \n",
      "174  sea_water_ph_reported_on_total_scale  \n",
      "175                                     1  \n",
      "\n",
      "\n",
      "      Row Type Variable Name Attribute Name Data Type  \\\n",
      "176   variable       PHPH_QC            NaN     short   \n",
      "177  attribute       PHPH_QC     _FillValue     short   \n",
      "178  attribute       PHPH_QC   actual_range     short   \n",
      "179  attribute       PHPH_QC  flag_meanings    String   \n",
      "180  attribute       PHPH_QC      long_name    String   \n",
      "181  attribute       PHPH_QC          units    String   \n",
      "\n",
      "                                                 Value  \n",
      "176                                                NaN  \n",
      "177                                             -32767  \n",
      "178                                               0, 9  \n",
      "179  no_qc_performed good_data probably_good_data b...  \n",
      "180                                    ph quality flag  \n",
      "181                                                  1  \n"
     ]
    }
   ],
   "source": [
    "info = pd.read_csv(i.get_info_url(dataset_id=\"EP_ERD_INT_PHPH_AL_PR_NRT\", response=\"csv\"))\n",
    "# List dataset variables\n",
    "print(\", \".join(info.loc[info[\"Row Type\"] == \"variable\", \"Variable Name\"]))\n",
    "print(\"\\n\")\n",
    "# Time coverage\n",
    "print(info.loc[info[\"Attribute Name\"] == \"time_coverage_start\", \"Value\"])\n",
    "print(info.loc[info[\"Attribute Name\"] == \"time_coverage_end\", \"Value\"])\n",
    "print(\"\\n\")\n",
    "# pH attributes\n",
    "print(info.loc[info[\"Variable Name\"] == \"PHPH\", :])\n",
    "print(\"\\n\")\n",
    "print(info.loc[info[\"Variable Name\"] == \"PHPH_QC\", :])"
   ]
  },
  {
   "cell_type": "markdown",
   "id": "071a5da7",
   "metadata": {},
   "source": [
    "Get the data, filtered by only good values of pH. "
   ]
  },
  {
   "cell_type": "code",
   "execution_count": 30,
   "id": "42e09900",
   "metadata": {},
   "outputs": [
    {
     "name": "stdout",
     "output_type": "stream",
     "text": [
      "Index(['depth (m)', 'LATITUDE', 'LONGITUDE', 'PRESSURE', 'DATEVECTOR', 'pH_TS',\n",
      "       'POSITION_QC (1)', 'TIME_QC (1)', 'DEPTH_QC (1)', 'PRES_QC (1)',\n",
      "       'PHPH_QC (1)'],\n",
      "      dtype='object')\n",
      "(635824, 11)\n"
     ]
    }
   ],
   "source": [
    "i.dataset_id=\"EP_ERD_INT_PHPH_AL_PR_NRT\"\n",
    "i.response=\"csv\"\n",
    "\n",
    "# List variables to retrieve\n",
    "# Axes variables\n",
    "varaxisname=i.get_var_by_attr(axis=lambda v: v in[\"X\",\"Y\",\"Z\",\"T\"])\n",
    "varsnames=['PHPH']\n",
    "varsqcnames=i.get_var_by_attr(long_name=\"quality flag\")\n",
    "i.variables=varaxisname + varsnames + varsqcnames + ['PHPH_QC']\n",
    "\n",
    "# Constraints\n",
    "i.constraints= {\n",
    "    \"time>=\": \"2017-01-01T00:00:00Z\",\n",
    "    \"time<=\": \"2019-12-31T23:59:59Z\",\n",
    "    \"PHPH_QC=\": 2,\n",
    "    \"PHPH_QC=\": 3}\n",
    "\n",
    "dtype=object\n",
    "df_emodnet = i.to_pandas()\n",
    "\n",
    "# Rename the columns to a common nomenclature\n",
    "df_emodnet.rename(\n",
    "    columns={'latitude (degrees_north)': vardict['lat'], 'longitude (degrees_east)': vardict['lon'],\n",
    "             'pres (dbar)': vardict['pres'], 'time (UTC)': vardict['datevec'],\n",
    "             'temp_adjusted (degree_Celsius)': vardict['temp'], 'temp_adjusted_qc':vardict['tempf'],\n",
    "             'PHPH (1)': vardict['ph'], 'ph_in_situ_total_qc': vardict['phf']},\n",
    "        inplace=True)\n",
    "\n",
    "# Variables retrieved\n",
    "print(df_emodnet.columns)\n",
    "# Size of matrix\n",
    "print(df_emodnet.shape)"
   ]
  },
  {
   "cell_type": "markdown",
   "id": "80626575",
   "metadata": {},
   "source": [
    "Similarly for IFREMER ERDDAP"
   ]
  },
  {
   "cell_type": "code",
   "execution_count": 32,
   "id": "2551470c",
   "metadata": {
    "collapsed": true
   },
   "outputs": [
    {
     "name": "stdout",
     "output_type": "stream",
     "text": [
      "[['Argo Float Measurements' 'ArgoFloats']\n",
      " ['Argo float synthetic vertical profiles : BGC data'\n",
      "  'ArgoFloats-synthetic-BGC']\n",
      " ['Global Ocean, In Situ Observation Copernicus (Copernicus Fishing Observing System)'\n",
      "  'copernicus-fos']\n",
      " ['OceanGliders GDAC trajectories' 'OceanGlidersGDACTrajectories']\n",
      " ['SDC Baltic Sea Aggregation V2' 'SDC_BAL_AGG_V2']\n",
      " ['SDC Mediterranean Sea Aggregation V2' 'SDC_MED_AGG_V2']\n",
      " ['SDC North Atlantic Aggregation V2' 'SDC_NATL_AGG_V2']]\n"
     ]
    }
   ],
   "source": [
    "i = ERDDAP(server=\"IFREMER\", protocol='tabledap')\n",
    "search_url = i.get_search_url(response=\"csv\", **{\n",
    "    \"cf_standard_name\": \"sea_water_ph_reported_on_total_scale\", # they use cf_standard\n",
    "    \"min_time\": \"2019-03-01\",\n",
    "    \"max_time\": \"2019-03-15\"})\n",
    "search = pd.read_csv(search_url)\n",
    "print(search[[\"Title\",\"Dataset ID\"]].values)"
   ]
  },
  {
   "cell_type": "markdown",
   "id": "af4da847",
   "metadata": {},
   "source": [
    "Pick the BGC-Argo synthetic profiles dataset"
   ]
  },
  {
   "cell_type": "code",
   "execution_count": 51,
   "id": "ebef310d",
   "metadata": {},
   "outputs": [
    {
     "name": "stdout",
     "output_type": "stream",
     "text": [
      "positioning_system, wmo_inst_type, platform_type, parameter_data_mode, data_centre, format_version, handbook_version, data_type, time, time_qc, time_location, latitude, longitude, position_qc, platform_number, cycle_number, direction, config_mission_number, cndc, cndc_qc, cndc_dpres, cndc_adjusted, cndc_adjusted_qc, cndc_adjusted_error, pres, pres_qc, pres_dpres, pres_adjusted, pres_adjusted_qc, pres_adjusted_error, psal, psal_qc, psal_dpres, psal_adjusted, psal_adjusted_qc, psal_adjusted_error, temp, temp_qc, temp_dpres, temp_adjusted, temp_adjusted_qc, temp_adjusted_error, doxy, doxy_qc, doxy_dpres, doxy_adjusted, doxy_adjusted_qc, doxy_adjusted_error, temp_doxy, temp_doxy_qc, temp_doxy_dpres, temp_doxy_adjusted, temp_doxy_adjusted_qc, temp_doxy_adjusted_error, temp_voltage_doxy, temp_voltage_doxy_qc, temp_voltage_doxy_dpres, temp_voltage_doxy_adjusted, temp_voltage_doxy_adjusted_qc, temp_voltage_doxy_adjusted_error, voltage_doxy, voltage_doxy_qc, voltage_doxy_dpres, voltage_doxy_adjusted, voltage_doxy_adjusted_qc, voltage_doxy_adjusted_error, frequency_doxy, frequency_doxy_qc, frequency_doxy_dpres, frequency_doxy_adjusted, frequency_doxy_adjusted_qc, frequency_doxy_adjusted_error, count_doxy, count_doxy_qc, count_doxy_dpres, count_doxy_adjusted, count_doxy_adjusted_qc, count_doxy_adjusted_error, bphase_doxy, bphase_doxy_qc, bphase_doxy_dpres, bphase_doxy_adjusted, bphase_doxy_adjusted_qc, bphase_doxy_adjusted_error, dphase_doxy, dphase_doxy_qc, dphase_doxy_dpres, dphase_doxy_adjusted, dphase_doxy_adjusted_qc, dphase_doxy_adjusted_error, tphase_doxy, tphase_doxy_qc, tphase_doxy_dpres, tphase_doxy_adjusted, tphase_doxy_adjusted_qc, tphase_doxy_adjusted_error, c1phase_doxy, c1phase_doxy_qc, c1phase_doxy_dpres, c1phase_doxy_adjusted, c1phase_doxy_adjusted_qc, c1phase_doxy_adjusted_error, c2phase_doxy, c2phase_doxy_qc, c2phase_doxy_dpres, c2phase_doxy_adjusted, c2phase_doxy_adjusted_qc, c2phase_doxy_adjusted_error, molar_doxy, molar_doxy_qc, molar_doxy_dpres, molar_doxy_adjusted, molar_doxy_adjusted_qc, molar_doxy_adjusted_error, phase_delay_doxy, phase_delay_doxy_qc, phase_delay_doxy_dpres, phase_delay_doxy_adjusted, phase_delay_doxy_adjusted_qc, phase_delay_doxy_adjusted_error, mlpl_doxy, mlpl_doxy_qc, mlpl_doxy_dpres, mlpl_doxy_adjusted, mlpl_doxy_adjusted_qc, mlpl_doxy_adjusted_error, nb_sample, nb_sample_qc, nb_sample_dpres, nb_sample_adjusted, nb_sample_adjusted_qc, nb_sample_adjusted_error, rphase_doxy, rphase_doxy_qc, rphase_doxy_dpres, rphase_doxy_adjusted, rphase_doxy_adjusted_qc, rphase_doxy_adjusted_error, temp_count_doxy, temp_count_doxy_qc, temp_count_doxy_dpres, temp_count_doxy_adjusted, temp_count_doxy_adjusted_qc, temp_count_doxy_adjusted_error, led_flashing_count_doxy, led_flashing_count_doxy_qc, led_flashing_count_doxy_dpres, led_flashing_count_doxy_adjusted, led_flashing_count_doxy_adjusted_qc, led_flashing_count_doxy_adjusted_error, ppox_doxy, ppox_doxy_qc, ppox_doxy_dpres, ppox_doxy_adjusted, ppox_doxy_adjusted_qc, ppox_doxy_adjusted_error, beta_backscattering, beta_backscattering_qc, beta_backscattering_dpres, beta_backscattering_adjusted, beta_backscattering_adjusted_qc, beta_backscattering_adjusted_error, beta_backscattering470, beta_backscattering470_qc, beta_backscattering470_dpres, beta_backscattering470_adjusted, beta_backscattering470_adjusted_qc, beta_backscattering470_adjusted_error, beta_backscattering532, beta_backscattering532_qc, beta_backscattering532_dpres, beta_backscattering532_adjusted, beta_backscattering532_adjusted_qc, beta_backscattering532_adjusted_error, beta_backscattering700, beta_backscattering700_qc, beta_backscattering700_dpres, beta_backscattering700_adjusted, beta_backscattering700_adjusted_qc, beta_backscattering700_adjusted_error, fluorescence_chla, fluorescence_chla_qc, fluorescence_chla_dpres, fluorescence_chla_adjusted, fluorescence_chla_adjusted_qc, fluorescence_chla_adjusted_error, temp_cpu_chla, temp_cpu_chla_qc, temp_cpu_chla_dpres, temp_cpu_chla_adjusted, temp_cpu_chla_adjusted_qc, temp_cpu_chla_adjusted_error, fluorescence_cdom, fluorescence_cdom_qc, fluorescence_cdom_dpres, fluorescence_cdom_adjusted, fluorescence_cdom_adjusted_qc, fluorescence_cdom_adjusted_error, side_scattering_turbidity, side_scattering_turbidity_qc, side_scattering_turbidity_dpres, side_scattering_turbidity_adjusted, side_scattering_turbidity_adjusted_qc, side_scattering_turbidity_adjusted_error, transmittance_particle_beam_attenuation, transmittance_particle_beam_attenuation_qc, transmittance_particle_beam_attenuation_dpres, transmittance_particle_beam_attenuation_adjusted, transmittance_particle_beam_attenuation_adjusted_qc, transmittance_particle_beam_attenuation_adjusted_error, transmittance_particle_beam_attenuation660, transmittance_particle_beam_attenuation660_qc, transmittance_particle_beam_attenuation660_dpres, transmittance_particle_beam_attenuation660_adjusted, transmittance_particle_beam_attenuation660_adjusted_qc, transmittance_particle_beam_attenuation660_adjusted_error, bbp, bbp_qc, bbp_dpres, bbp_adjusted, bbp_adjusted_qc, bbp_adjusted_error, bbp470, bbp470_qc, bbp470_dpres, bbp470_adjusted, bbp470_adjusted_qc, bbp470_adjusted_error, bbp532, bbp532_qc, bbp532_dpres, bbp532_adjusted, bbp532_adjusted_qc, bbp532_adjusted_error, bbp700, bbp700_qc, bbp700_dpres, bbp700_adjusted, bbp700_adjusted_qc, bbp700_adjusted_error, turbidity, turbidity_qc, turbidity_dpres, turbidity_adjusted, turbidity_adjusted_qc, turbidity_adjusted_error, cp, cp_qc, cp_dpres, cp_adjusted, cp_adjusted_qc, cp_adjusted_error, cp660, cp660_qc, cp660_dpres, cp660_adjusted, cp660_adjusted_qc, cp660_adjusted_error, chla, chla_qc, chla_dpres, chla_adjusted, chla_adjusted_qc, chla_adjusted_error, cdom, cdom_qc, cdom_dpres, cdom_adjusted, cdom_adjusted_qc, cdom_adjusted_error, uv_intensity_nitrate, uv_intensity_nitrate_qc, uv_intensity_nitrate_dpres, uv_intensity_nitrate_adjusted, uv_intensity_nitrate_adjusted_qc, uv_intensity_nitrate_adjusted_error, uv_intensity_dark_nitrate, uv_intensity_dark_nitrate_qc, uv_intensity_dark_nitrate_dpres, uv_intensity_dark_nitrate_adjusted, uv_intensity_dark_nitrate_adjusted_qc, uv_intensity_dark_nitrate_adjusted_error, uv_intensity_dark_seawater_nitrate, uv_intensity_dark_seawater_nitrate_qc, uv_intensity_dark_seawater_nitrate_dpres, uv_intensity_dark_seawater_nitrate_adjusted, uv_intensity_dark_seawater_nitrate_adjusted_qc, uv_intensity_dark_seawater_nitrate_adjusted_error, nitrate, nitrate_qc, nitrate_dpres, nitrate_adjusted, nitrate_adjusted_qc, nitrate_adjusted_error, bisulfide, bisulfide_qc, bisulfide_dpres, bisulfide_adjusted, bisulfide_adjusted_qc, bisulfide_adjusted_error, molar_nitrate, molar_nitrate_qc, molar_nitrate_dpres, molar_nitrate_adjusted, molar_nitrate_adjusted_qc, molar_nitrate_adjusted_error, fit_error_nitrate, fit_error_nitrate_qc, fit_error_nitrate_dpres, fit_error_nitrate_adjusted, fit_error_nitrate_adjusted_qc, fit_error_nitrate_adjusted_error, temp_nitrate, temp_nitrate_qc, temp_nitrate_dpres, temp_nitrate_adjusted, temp_nitrate_adjusted_qc, temp_nitrate_adjusted_error, temp_spectrophotometer_nitrate, temp_spectrophotometer_nitrate_qc, temp_spectrophotometer_nitrate_dpres, temp_spectrophotometer_nitrate_adjusted, temp_spectrophotometer_nitrate_adjusted_qc, temp_spectrophotometer_nitrate_adjusted_error, humidity_nitrate, humidity_nitrate_qc, humidity_nitrate_dpres, humidity_nitrate_adjusted, humidity_nitrate_adjusted_qc, humidity_nitrate_adjusted_error, vrs_ph, vrs_ph_qc, vrs_ph_dpres, vrs_ph_adjusted, vrs_ph_adjusted_qc, vrs_ph_adjusted_error, temp_ph, temp_ph_qc, temp_ph_dpres, temp_ph_adjusted, temp_ph_adjusted_qc, temp_ph_adjusted_error, ib_ph, ib_ph_qc, ib_ph_dpres, ib_ph_adjusted, ib_ph_adjusted_qc, ib_ph_adjusted_error, vk_ph, vk_ph_qc, vk_ph_dpres, vk_ph_adjusted, vk_ph_adjusted_qc, vk_ph_adjusted_error, ik_ph, ik_ph_qc, ik_ph_dpres, ik_ph_adjusted, ik_ph_adjusted_qc, ik_ph_adjusted_error, ph_in_situ_total, ph_in_situ_total_qc, ph_in_situ_total_dpres, ph_in_situ_total_adjusted, ph_in_situ_total_adjusted_qc, ph_in_situ_total_adjusted_error, ph_in_situ_free, ph_in_situ_free_qc, ph_in_situ_free_dpres, ph_in_situ_free_adjusted, ph_in_situ_free_adjusted_qc, ph_in_situ_free_adjusted_error, ph_in_situ_seawater, ph_in_situ_seawater_qc, ph_in_situ_seawater_dpres, ph_in_situ_seawater_adjusted, ph_in_situ_seawater_adjusted_qc, ph_in_situ_seawater_adjusted_error, raw_downwelling_irradiance, raw_downwelling_irradiance_qc, raw_downwelling_irradiance_dpres, raw_downwelling_irradiance_adjusted, raw_downwelling_irradiance_adjusted_qc, raw_downwelling_irradiance_adjusted_error, raw_downwelling_irradiance380, raw_downwelling_irradiance380_qc, raw_downwelling_irradiance380_dpres, raw_downwelling_irradiance380_adjusted, raw_downwelling_irradiance380_adjusted_qc, raw_downwelling_irradiance380_adjusted_error, raw_downwelling_irradiance412, raw_downwelling_irradiance412_qc, raw_downwelling_irradiance412_dpres, raw_downwelling_irradiance412_adjusted, raw_downwelling_irradiance412_adjusted_qc, raw_downwelling_irradiance412_adjusted_error, raw_downwelling_irradiance443, raw_downwelling_irradiance443_qc, raw_downwelling_irradiance443_dpres, raw_downwelling_irradiance443_adjusted, raw_downwelling_irradiance443_adjusted_qc, raw_downwelling_irradiance443_adjusted_error, raw_downwelling_irradiance490, raw_downwelling_irradiance490_qc, raw_downwelling_irradiance490_dpres, raw_downwelling_irradiance490_adjusted, raw_downwelling_irradiance490_adjusted_qc, raw_downwelling_irradiance490_adjusted_error, raw_downwelling_irradiance555, raw_downwelling_irradiance555_qc, raw_downwelling_irradiance555_dpres, raw_downwelling_irradiance555_adjusted, raw_downwelling_irradiance555_adjusted_qc, raw_downwelling_irradiance555_adjusted_error, down_irradiance, down_irradiance_qc, down_irradiance_dpres, down_irradiance_adjusted, down_irradiance_adjusted_qc, down_irradiance_adjusted_error, down_irradiance380, down_irradiance380_qc, down_irradiance380_dpres, down_irradiance380_adjusted, down_irradiance380_adjusted_qc, down_irradiance380_adjusted_error, down_irradiance412, down_irradiance412_qc, down_irradiance412_dpres, down_irradiance412_adjusted, down_irradiance412_adjusted_qc, down_irradiance412_adjusted_error, down_irradiance443, down_irradiance443_qc, down_irradiance443_dpres, down_irradiance443_adjusted, down_irradiance443_adjusted_qc, down_irradiance443_adjusted_error, down_irradiance490, down_irradiance490_qc, down_irradiance490_dpres, down_irradiance490_adjusted, down_irradiance490_adjusted_qc, down_irradiance490_adjusted_error, down_irradiance555, down_irradiance555_qc, down_irradiance555_dpres, down_irradiance555_adjusted, down_irradiance555_adjusted_qc, down_irradiance555_adjusted_error, raw_upwelling_radiance, raw_upwelling_radiance_qc, raw_upwelling_radiance_dpres, raw_upwelling_radiance_adjusted, raw_upwelling_radiance_adjusted_qc, raw_upwelling_radiance_adjusted_error, raw_upwelling_radiance412, raw_upwelling_radiance412_qc, raw_upwelling_radiance412_dpres, raw_upwelling_radiance412_adjusted, raw_upwelling_radiance412_adjusted_qc, raw_upwelling_radiance412_adjusted_error, raw_upwelling_radiance443, raw_upwelling_radiance443_qc, raw_upwelling_radiance443_dpres, raw_upwelling_radiance443_adjusted, raw_upwelling_radiance443_adjusted_qc, raw_upwelling_radiance443_adjusted_error, raw_upwelling_radiance490, raw_upwelling_radiance490_qc, raw_upwelling_radiance490_dpres, raw_upwelling_radiance490_adjusted, raw_upwelling_radiance490_adjusted_qc, raw_upwelling_radiance490_adjusted_error, raw_upwelling_radiance555, raw_upwelling_radiance555_qc, raw_upwelling_radiance555_dpres, raw_upwelling_radiance555_adjusted, raw_upwelling_radiance555_adjusted_qc, raw_upwelling_radiance555_adjusted_error, up_radiance, up_radiance_qc, up_radiance_dpres, up_radiance_adjusted, up_radiance_adjusted_qc, up_radiance_adjusted_error, up_radiance412, up_radiance412_qc, up_radiance412_dpres, up_radiance412_adjusted, up_radiance412_adjusted_qc, up_radiance412_adjusted_error, up_radiance443, up_radiance443_qc, up_radiance443_dpres, up_radiance443_adjusted, up_radiance443_adjusted_qc, up_radiance443_adjusted_error, up_radiance490, up_radiance490_qc, up_radiance490_dpres, up_radiance490_adjusted, up_radiance490_adjusted_qc, up_radiance490_adjusted_error, up_radiance555, up_radiance555_qc, up_radiance555_dpres, up_radiance555_adjusted, up_radiance555_adjusted_qc, up_radiance555_adjusted_error, raw_downwelling_par, raw_downwelling_par_qc, raw_downwelling_par_dpres, raw_downwelling_par_adjusted, raw_downwelling_par_adjusted_qc, raw_downwelling_par_adjusted_error, downwelling_par, downwelling_par_qc, downwelling_par_dpres, downwelling_par_adjusted, downwelling_par_adjusted_qc, downwelling_par_adjusted_error, tilt, tilt_qc, tilt_dpres, tilt_adjusted, tilt_adjusted_qc, tilt_adjusted_error, mtime, mtime_qc, mtime_dpres, mtime_adjusted, mtime_adjusted_qc, mtime_adjusted_error, temp_cndc, temp_cndc_qc, temp_cndc_dpres, temp_cndc_adjusted, temp_cndc_adjusted_qc, temp_cndc_adjusted_error\n",
      "\n",
      "\n",
      "34    2002-09-08T23:02:51Z\n",
      "Name: Value, dtype: object\n",
      "33    2021-10-12T07:45:20Z\n",
      "Name: Value, dtype: object\n",
      "\n",
      "\n"
     ]
    },
    {
     "name": "stdout",
     "output_type": "stream",
     "text": [
      "['ph_in_situ_total']\n",
      "       Row Type     Variable Name     Attribute Name Data Type  \\\n",
      "1050   variable  ph_in_situ_total                NaN     float   \n",
      "1051  attribute  ph_in_situ_total         _FillValue     float   \n",
      "1052  attribute  ph_in_situ_total       actual_range     float   \n",
      "1053  attribute  ph_in_situ_total   cf_standard_name    String   \n",
      "1054  attribute  ph_in_situ_total          long_name    String   \n",
      "1055  attribute  ph_in_situ_total  sdn_parameter_urn    String   \n",
      "1056  attribute  ph_in_situ_total              units    String   \n",
      "1057  attribute  ph_in_situ_total          valid_max     float   \n",
      "1058  attribute  ph_in_situ_total          valid_min     float   \n",
      "\n",
      "                                     Value  \n",
      "1050                                   NaN  \n",
      "1051                               99999.0  \n",
      "1052                   -31.72798, 71.51507  \n",
      "1053  sea_water_ph_reported_on_total_scale  \n",
      "1054                                    pH  \n",
      "1055                     SDN:P01::PHMASSXX  \n",
      "1056                         dimensionless  \n",
      "1057                                   NaN  \n",
      "1058                                   NaN  \n",
      "\n",
      "\n",
      "      Row Type        Variable Name Attribute Name Data Type Value\n",
      "1059  variable  ph_in_situ_total_qc            NaN    String   NaN\n"
     ]
    }
   ],
   "source": [
    "i.dataset_id=\"ArgoFloats-synthetic-BGC\"\n",
    "i.response=\"csv\"\n",
    "\n",
    "info = pd.read_csv(i.get_info_url())\n",
    "# List dataset variables (very long!)\n",
    "print(\", \".join(info.loc[info[\"Row Type\"] == \"variable\", \"Variable Name\"]))\n",
    "print(\"\\n\")\n",
    "# Time coverage\n",
    "print(info.loc[info[\"Attribute Name\"] == \"time_coverage_start\", \"Value\"])\n",
    "print(info.loc[info[\"Attribute Name\"] == \"time_coverage_end\", \"Value\"])\n",
    "print(\"\\n\")\n",
    "# pH attributes\n",
    "print(i.get_var_by_attr(dataset_id=\"ArgoFloats-synthetic-BGC\",cf_standard_name=\"sea_water_ph_reported_on_total_scale\"))\n",
    "print(info.loc[info[\"Variable Name\"] == \"ph_in_situ_total\", :])\n",
    "print(\"\\n\")\n",
    "print(info.loc[info[\"Variable Name\"] == \"ph_in_situ_total_qc\", :]) \n",
    "# QC is a string:"
   ]
  },
  {
   "cell_type": "markdown",
   "id": "d2b539ac",
   "metadata": {},
   "source": [
    "The dataset has 540 variables in total. Pick only the ones we're interested in.."
   ]
  },
  {
   "cell_type": "code",
   "execution_count": 52,
   "id": "f263e811",
   "metadata": {},
   "outputs": [
    {
     "ename": "HTTPError",
     "evalue": "<!DOCTYPE HTML PUBLIC \"-//IETF//DTD HTML 2.0//EN\">\n<html><head>\n<title>500 Internal Server Error</title>\n</head><body>\n<h1>Internal Server Error</h1>\n<p>The server encountered an internal error or\nmisconfiguration and was unable to complete\nyour request.</p>\n<p>Please contact the server administrator at \n assistance@ifremer.fr to inform them of the time this error occurred,\n and the actions you performed just before this error.</p>\n<p>More information about this error may be available\nin the server error log.</p>\n</body></html>\n",
     "output_type": "error",
     "traceback": [
      "\u001b[0;31m---------------------------------------------------------------------------\u001b[0m",
      "\u001b[0;31mHTTPError\u001b[0m                                 Traceback (most recent call last)",
      "\u001b[0;32m/usr/local/lib/python3.9/site-packages/erddapy/url_handling.py\u001b[0m in \u001b[0;36m_urlopen\u001b[0;34m(url, auth, **kwargs)\u001b[0m\n\u001b[1;32m     17\u001b[0m     \u001b[0;32mtry\u001b[0m\u001b[0;34m:\u001b[0m\u001b[0;34m\u001b[0m\u001b[0;34m\u001b[0m\u001b[0m\n\u001b[0;32m---> 18\u001b[0;31m         \u001b[0mresponse\u001b[0m\u001b[0;34m.\u001b[0m\u001b[0mraise_for_status\u001b[0m\u001b[0;34m(\u001b[0m\u001b[0;34m)\u001b[0m\u001b[0;34m\u001b[0m\u001b[0;34m\u001b[0m\u001b[0m\n\u001b[0m\u001b[1;32m     19\u001b[0m     \u001b[0;32mexcept\u001b[0m \u001b[0mrequests\u001b[0m\u001b[0;34m.\u001b[0m\u001b[0mexceptions\u001b[0m\u001b[0;34m.\u001b[0m\u001b[0mHTTPError\u001b[0m \u001b[0;32mas\u001b[0m \u001b[0merr\u001b[0m\u001b[0;34m:\u001b[0m\u001b[0;34m\u001b[0m\u001b[0;34m\u001b[0m\u001b[0m\n",
      "\u001b[0;32m/usr/local/Cellar/jupyterlab/3.1.9/libexec/lib/python3.9/site-packages/requests/models.py\u001b[0m in \u001b[0;36mraise_for_status\u001b[0;34m(self)\u001b[0m\n\u001b[1;32m    952\u001b[0m         \u001b[0;32mif\u001b[0m \u001b[0mhttp_error_msg\u001b[0m\u001b[0;34m:\u001b[0m\u001b[0;34m\u001b[0m\u001b[0;34m\u001b[0m\u001b[0m\n\u001b[0;32m--> 953\u001b[0;31m             \u001b[0;32mraise\u001b[0m \u001b[0mHTTPError\u001b[0m\u001b[0;34m(\u001b[0m\u001b[0mhttp_error_msg\u001b[0m\u001b[0;34m,\u001b[0m \u001b[0mresponse\u001b[0m\u001b[0;34m=\u001b[0m\u001b[0mself\u001b[0m\u001b[0;34m)\u001b[0m\u001b[0;34m\u001b[0m\u001b[0;34m\u001b[0m\u001b[0m\n\u001b[0m\u001b[1;32m    954\u001b[0m \u001b[0;34m\u001b[0m\u001b[0m\n",
      "\u001b[0;31mHTTPError\u001b[0m: 500 Server Error: Internal Server Error for url: https://www.ifremer.fr/erddap/tabledap/ArgoFloats-synthetic-BGC.csvp?pres,time,longitude,pres_adjusted,latitude,ph_in_situ_total,psal_adjusted_qc,pres_qc,psal_qc,doxy_qc,temp_qc,doxy_adjusted_qc,temp_adjusted_qc,pres_adjusted_qc,ph_in_situ_total_qc&time%3E=1483228800.0&time%3C=1577836799.0&ph_in_situ_total_qc=%221%22",
      "\nThe above exception was the direct cause of the following exception:\n",
      "\u001b[0;31mHTTPError\u001b[0m                                 Traceback (most recent call last)",
      "\u001b[0;32m/var/folders/0k/rjqdjmbd4j75cw4j3vk12vmr2b26xp/T/ipykernel_4009/2729426481.py\u001b[0m in \u001b[0;36m<module>\u001b[0;34m\u001b[0m\n\u001b[1;32m     12\u001b[0m \u001b[0;34m\u001b[0m\u001b[0m\n\u001b[1;32m     13\u001b[0m \u001b[0mdtype\u001b[0m\u001b[0;34m=\u001b[0m\u001b[0mobject\u001b[0m\u001b[0;34m\u001b[0m\u001b[0;34m\u001b[0m\u001b[0m\n\u001b[0;32m---> 14\u001b[0;31m \u001b[0mdf_ifremer\u001b[0m \u001b[0;34m=\u001b[0m \u001b[0mi\u001b[0m\u001b[0;34m.\u001b[0m\u001b[0mto_pandas\u001b[0m\u001b[0;34m(\u001b[0m\u001b[0;34m)\u001b[0m\u001b[0;34m\u001b[0m\u001b[0;34m\u001b[0m\u001b[0m\n\u001b[0m\u001b[1;32m     15\u001b[0m \u001b[0mprint\u001b[0m\u001b[0;34m(\u001b[0m\u001b[0mdf_ifremer\u001b[0m\u001b[0;34m.\u001b[0m\u001b[0mcolumns\u001b[0m\u001b[0;34m)\u001b[0m\u001b[0;34m\u001b[0m\u001b[0;34m\u001b[0m\u001b[0m\n\u001b[1;32m     16\u001b[0m \u001b[0mprint\u001b[0m\u001b[0;34m(\u001b[0m\u001b[0mdf_ifremer\u001b[0m\u001b[0;34m.\u001b[0m\u001b[0mshape\u001b[0m\u001b[0;34m)\u001b[0m\u001b[0;34m\u001b[0m\u001b[0;34m\u001b[0m\u001b[0m\n",
      "\u001b[0;32m/usr/local/lib/python3.9/site-packages/erddapy/erddapy.py\u001b[0m in \u001b[0;36mto_pandas\u001b[0;34m(self, **kw)\u001b[0m\n\u001b[1;32m    546\u001b[0m         \u001b[0mresponse\u001b[0m \u001b[0;34m=\u001b[0m \u001b[0mkw\u001b[0m\u001b[0;34m.\u001b[0m\u001b[0mpop\u001b[0m\u001b[0;34m(\u001b[0m\u001b[0;34m\"response\"\u001b[0m\u001b[0;34m,\u001b[0m \u001b[0;34m\"csvp\"\u001b[0m\u001b[0;34m)\u001b[0m\u001b[0;34m\u001b[0m\u001b[0;34m\u001b[0m\u001b[0m\n\u001b[1;32m    547\u001b[0m         \u001b[0murl\u001b[0m \u001b[0;34m=\u001b[0m \u001b[0mself\u001b[0m\u001b[0;34m.\u001b[0m\u001b[0mget_download_url\u001b[0m\u001b[0;34m(\u001b[0m\u001b[0mresponse\u001b[0m\u001b[0;34m=\u001b[0m\u001b[0mresponse\u001b[0m\u001b[0;34m,\u001b[0m \u001b[0;34m**\u001b[0m\u001b[0mkw\u001b[0m\u001b[0;34m)\u001b[0m\u001b[0;34m\u001b[0m\u001b[0;34m\u001b[0m\u001b[0m\n\u001b[0;32m--> 548\u001b[0;31m         \u001b[0mdata\u001b[0m \u001b[0;34m=\u001b[0m \u001b[0murlopen\u001b[0m\u001b[0;34m(\u001b[0m\u001b[0murl\u001b[0m\u001b[0;34m,\u001b[0m \u001b[0mauth\u001b[0m\u001b[0;34m=\u001b[0m\u001b[0mself\u001b[0m\u001b[0;34m.\u001b[0m\u001b[0mauth\u001b[0m\u001b[0;34m,\u001b[0m \u001b[0;34m**\u001b[0m\u001b[0mself\u001b[0m\u001b[0;34m.\u001b[0m\u001b[0mrequests_kwargs\u001b[0m\u001b[0;34m)\u001b[0m\u001b[0;34m\u001b[0m\u001b[0;34m\u001b[0m\u001b[0m\n\u001b[0m\u001b[1;32m    549\u001b[0m         \u001b[0;32mreturn\u001b[0m \u001b[0mpd\u001b[0m\u001b[0;34m.\u001b[0m\u001b[0mread_csv\u001b[0m\u001b[0;34m(\u001b[0m\u001b[0mdata\u001b[0m\u001b[0;34m,\u001b[0m \u001b[0;34m**\u001b[0m\u001b[0mkw\u001b[0m\u001b[0;34m)\u001b[0m\u001b[0;34m\u001b[0m\u001b[0;34m\u001b[0m\u001b[0m\n\u001b[1;32m    550\u001b[0m \u001b[0;34m\u001b[0m\u001b[0m\n",
      "\u001b[0;32m/usr/local/lib/python3.9/site-packages/erddapy/url_handling.py\u001b[0m in \u001b[0;36murlopen\u001b[0;34m(url, auth, **kwargs)\u001b[0m\n\u001b[1;32m     29\u001b[0m     \"\"\"\n\u001b[1;32m     30\u001b[0m     \u001b[0;31m# Ignoring type checks here b/c mypy does not support decorated functions.\u001b[0m\u001b[0;34m\u001b[0m\u001b[0;34m\u001b[0m\u001b[0m\n\u001b[0;32m---> 31\u001b[0;31m     \u001b[0mdata\u001b[0m \u001b[0;34m=\u001b[0m \u001b[0m_urlopen\u001b[0m\u001b[0;34m(\u001b[0m\u001b[0murl\u001b[0m\u001b[0;34m=\u001b[0m\u001b[0murl\u001b[0m\u001b[0;34m,\u001b[0m \u001b[0mauth\u001b[0m\u001b[0;34m=\u001b[0m\u001b[0mauth\u001b[0m\u001b[0;34m,\u001b[0m \u001b[0;34m**\u001b[0m\u001b[0mkwargs\u001b[0m\u001b[0;34m)\u001b[0m  \u001b[0;31m# type: ignore\u001b[0m\u001b[0;34m\u001b[0m\u001b[0;34m\u001b[0m\u001b[0m\n\u001b[0m\u001b[1;32m     32\u001b[0m     \u001b[0mdata\u001b[0m\u001b[0;34m.\u001b[0m\u001b[0mseek\u001b[0m\u001b[0;34m(\u001b[0m\u001b[0;36m0\u001b[0m\u001b[0;34m)\u001b[0m\u001b[0;34m\u001b[0m\u001b[0;34m\u001b[0m\u001b[0m\n\u001b[1;32m     33\u001b[0m     \u001b[0;32mreturn\u001b[0m \u001b[0mdata\u001b[0m\u001b[0;34m\u001b[0m\u001b[0;34m\u001b[0m\u001b[0m\n",
      "\u001b[0;32m/usr/local/lib/python3.9/site-packages/erddapy/url_handling.py\u001b[0m in \u001b[0;36m_urlopen\u001b[0;34m(url, auth, **kwargs)\u001b[0m\n\u001b[1;32m     18\u001b[0m         \u001b[0mresponse\u001b[0m\u001b[0;34m.\u001b[0m\u001b[0mraise_for_status\u001b[0m\u001b[0;34m(\u001b[0m\u001b[0;34m)\u001b[0m\u001b[0;34m\u001b[0m\u001b[0;34m\u001b[0m\u001b[0m\n\u001b[1;32m     19\u001b[0m     \u001b[0;32mexcept\u001b[0m \u001b[0mrequests\u001b[0m\u001b[0;34m.\u001b[0m\u001b[0mexceptions\u001b[0m\u001b[0;34m.\u001b[0m\u001b[0mHTTPError\u001b[0m \u001b[0;32mas\u001b[0m \u001b[0merr\u001b[0m\u001b[0;34m:\u001b[0m\u001b[0;34m\u001b[0m\u001b[0;34m\u001b[0m\u001b[0m\n\u001b[0;32m---> 20\u001b[0;31m         \u001b[0;32mraise\u001b[0m \u001b[0mrequests\u001b[0m\u001b[0;34m.\u001b[0m\u001b[0mexceptions\u001b[0m\u001b[0;34m.\u001b[0m\u001b[0mHTTPError\u001b[0m\u001b[0;34m(\u001b[0m\u001b[0;34mf\"{response.content.decode()}\"\u001b[0m\u001b[0;34m)\u001b[0m \u001b[0;32mfrom\u001b[0m \u001b[0merr\u001b[0m\u001b[0;34m\u001b[0m\u001b[0;34m\u001b[0m\u001b[0m\n\u001b[0m\u001b[1;32m     21\u001b[0m     \u001b[0;32mreturn\u001b[0m \u001b[0mio\u001b[0m\u001b[0;34m.\u001b[0m\u001b[0mBytesIO\u001b[0m\u001b[0;34m(\u001b[0m\u001b[0mresponse\u001b[0m\u001b[0;34m.\u001b[0m\u001b[0mcontent\u001b[0m\u001b[0;34m)\u001b[0m\u001b[0;34m\u001b[0m\u001b[0;34m\u001b[0m\u001b[0m\n\u001b[1;32m     22\u001b[0m \u001b[0;34m\u001b[0m\u001b[0m\n",
      "\u001b[0;31mHTTPError\u001b[0m: <!DOCTYPE HTML PUBLIC \"-//IETF//DTD HTML 2.0//EN\">\n<html><head>\n<title>500 Internal Server Error</title>\n</head><body>\n<h1>Internal Server Error</h1>\n<p>The server encountered an internal error or\nmisconfiguration and was unable to complete\nyour request.</p>\n<p>Please contact the server administrator at \n assistance@ifremer.fr to inform them of the time this error occurred,\n and the actions you performed just before this error.</p>\n<p>More information about this error may be available\nin the server error log.</p>\n</body></html>\n"
     ]
    }
   ],
   "source": [
    "# Reduce number of variables; total columns is 540\n",
    "# Axes variables\n",
    "varaxisname=i.get_var_by_attr(axis=lambda v: v in[\"X\",\"Y\",\"Z\",\"T\"])\n",
    "varsnames=['ph_in_situ_total']\n",
    "varsqcnames=i.get_var_by_attr(long_name=\"quality flag\")\n",
    "i.variables=varaxisname + varsnames + varsqcnames + ['ph_in_situ_total_qc']\n",
    "\n",
    "i.constraints= {\n",
    "    \"time>=\": \"2017-01-01T00:00:00Z\",\n",
    "    \"time<=\": \"2019-12-31T23:59:59Z\",\n",
    "    \"ph_in_situ_total_qc=\": '1'} #  good data\n",
    "        \n",
    "dtype=object\n",
    "df_ifremer = i.to_pandas()\n",
    "print(df_ifremer.columns)\n",
    "print(df_ifremer.shape)"
   ]
  },
  {
   "cell_type": "code",
   "execution_count": null,
   "id": "82494538",
   "metadata": {},
   "outputs": [],
   "source": [
    "df_ifremer.rename(\n",
    "    columns={'latitude (degrees_north)': vardict['lat'], 'longitude (degrees_east)': vardict['lon'],\n",
    "             'pres_adjusted (decibar)': vardict['pres'], 'time (UTC)': vardict['datevec'],\n",
    "             'temp_adjusted (degree_Celsius)': vardict['temp'], 'temp_adjusted_qc':vardict['tempf'],\n",
    "             'ph_in_situ_total_adjusted (dimensionless)': vardict['ph'], 'ph_in_situ_total_qc': vardict['phf']},\n",
    "        inplace=True)\n",
    "df_ifremer['SOURCE']='BGC-Argo (IFREMER)'"
   ]
  },
  {
   "cell_type": "markdown",
   "id": "3c695bf8",
   "metadata": {},
   "source": [
    "Map scatterplot"
   ]
  },
  {
   "cell_type": "code",
   "execution_count": null,
   "id": "a82fe568",
   "metadata": {},
   "outputs": [],
   "source": [
    "dflist=[df_ifremer,df_emodnet]\n",
    "df=pd.concat(dflist)\n",
    "\n",
    "proj=ccrs.cartopy.crs.Miller()\n",
    "plt.figure(dpi=200)\n",
    "ax = plt.axes(projection=proj)\n",
    "if ((df[vardict['lon']].min() < -175) & (df[vardict['lon']].max() > 175) & \n",
    "    (df[vardict['lat']].min() <-85) & (df[vardict['lat']].max() > 85)) :\n",
    "    ax.set_extent([df[vardict['lon']].min()-5,df[vardict['lon']].max()+5, \n",
    "                   df[vardict['lat']].max()+5,df[vardict['lat']].min()-5])\n",
    "ax.stock_img()\n",
    "ax.coastlines()\n",
    "\n",
    "sc=ax.scatter(df_ifremer[vardict['lon']],df_ifremer[vardict['lat']],\n",
    "    c='r',s=5,label='BGC-Argo IFREMER',\n",
    "    transform=ccrs.PlateCarree())\n",
    "sc=ax.scatter(df_emodnet[vardict['lon']],df_emodnet[vardict['lat']],\n",
    "    c='b',s=1,label='EMODNET',\n",
    "    transform=ccrs.PlateCarree())\n",
    "    \n",
    "#plt.colorbar(sc)\n",
    "ax.legend(loc='lower center')\n",
    "plt.show()"
   ]
  },
  {
   "cell_type": "markdown",
   "id": "27bda967",
   "metadata": {},
   "source": [
    "Latitude-depth scatterplots"
   ]
  },
  {
   "cell_type": "code",
   "execution_count": null,
   "id": "367b1d02",
   "metadata": {},
   "outputs": [],
   "source": [
    "# latitude-depth scatterplots. Atlantic\n",
    "\n",
    "plt.figure(figsize=(20,6), dpi=200)\n",
    "ax = plt.axes()\n",
    "sc=ax.scatter(df_ifremer[vardict['lat']],\n",
    "           df_ifremer[vardict['pres']],\n",
    "           c=df_ifremer[vardict['ph']])\n",
    "#,\n",
    "#          s=5,label='BGC-Argo IFREMER')\n",
    "ax.scatter(df_emodnet[vardict['lat']],\n",
    "           df_emodnet[vardict['pres']],\n",
    "           c=df_emodnet[vardict['ph']],\n",
    "           s=1,label='EMODNET')\n",
    "plt.xticks(rotation=45);\n",
    "ax.invert_yaxis();\n",
    "plt.colorbar(sc);\n",
    "#ax.legend(loc='lower center')"
   ]
  }
 ],
 "metadata": {
  "kernelspec": {
   "display_name": "Python 3 (ipykernel)",
   "language": "python",
   "name": "python3"
  },
  "language_info": {
   "codemirror_mode": {
    "name": "ipython",
    "version": 3
   },
   "file_extension": ".py",
   "mimetype": "text/x-python",
   "name": "python",
   "nbconvert_exporter": "python",
   "pygments_lexer": "ipython3",
   "version": "3.9.7"
  }
 },
 "nbformat": 4,
 "nbformat_minor": 5
}
