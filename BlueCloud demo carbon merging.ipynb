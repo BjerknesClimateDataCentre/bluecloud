{
 "cells": [
  {
   "cell_type": "code",
   "execution_count": null,
   "id": "ef5e2747",
   "metadata": {},
   "outputs": [],
   "source": [
    "import pandas as pd\n",
    "import matplotlib.pyplot as plt\n",
    "\n",
    "import cartopy\n",
    "cartopy.config['data_dir'] = './maps'\n",
    "import cartopy.crs as ccrs\n",
    "from cartopy.feature import NaturalEarthFeature\n",
    "import cartopy.feature as feat"
   ]
  },
  {
   "cell_type": "code",
   "execution_count": null,
   "id": "3d5616a8",
   "metadata": {},
   "outputs": [],
   "source": [
    "# Read .csv files"
   ]
  },
  {
   "cell_type": "markdown",
   "id": "9de610c6",
   "metadata": {},
   "source": [
    "Let's dig a bit further in the metadata. The WMO platform code is a 5 or 7 digit code assigned to platforms that transmit in the Global Telecommunication System (GTS, for more information you can check here https://www.ocean-ops.org/dbcp/data/sharing.html). Ocean-OPS (https://www.ocean-ops.org/board) manages an extensive metadata catalogue of marine observation deployments, and it is possible to explore it through an API. \n",
    "Here we will find how many data points do not have a WMO number associated, how many different platforms are in the dataset, grouped by platform type, and which devices they are. "
   ]
  },
  {
   "cell_type": "code",
   "execution_count": null,
   "id": "3a5c5a33",
   "metadata": {},
   "outputs": [],
   "source": [
    "# Number of data points without WMO code\n",
    "print(\"There are\", str(sum(df_emodnet['wmo_platform_code'].isnull())), \"datapoints without a WMO number associated\")\n",
    "\n",
    "# Retrieve device types\n",
    "wmobytype=df_emodnet.wmo_platform_code.groupby(df_emodnet.EP_PLATFORM_TYPE).unique()\n",
    "display(wmobytype)\n",
    "print(\"The dataframe contains data from\", str(wmobytype.index.values.shape[0]), \"platform types and at least\",\n",
    "      str(wmobytype[0].shape[0]),\"different platforms\")\n",
    "print(\"\\n\")\n",
    "\n",
    "for wmocode in wmobytype[0]:\n",
    "    url = (\"https://www.ocean-ops.org/api/preview/data/platform?exp=[%22wmos.wmo=%27\"\n",
    "        +str(wmocode)+\"%27%22]&include=[%22ref%22,%22wmos.wmo%22]&include=[%22ptfModel.name%22]\")\n",
    "    rdata = requests.get(url)\n",
    "    jdata= json.loads(rdata.text)\n",
    "    print(\"The platform of type\",\"and WMO platform code of\",str(wmocode) ,\"corresponds to a\", jdata['data'][0]['ptfModel']['name'], \"device\")"
   ]
  },
  {
   "cell_type": "code",
   "execution_count": null,
   "id": "59f36f39",
   "metadata": {},
   "outputs": [],
   "source": [
    "dflist=[df_ifremer,df_emodnet]\n",
    "df=pd.concat(dflist)\n",
    "\n",
    "proj=ccrs.cartopy.crs.Miller()\n",
    "plt.figure(dpi=200)\n",
    "ax = plt.axes(projection=proj)\n",
    "#if ((df[vardict['lon']].min() < -175) & (df[vardict['lon']].max() > 175) & \n",
    "#    (df[vardict['lat']].min() <-85) & (df[vardict['lat']].max() > 85)) :\n",
    "#    ax.set_extent([df[vardict['lon']].min()-5,df[vardict['lon']].max()+5, \n",
    "#                   df[vardict['lat']].max()+5,df[vardict['lat']].min()-5])\n",
    "ax.stock_img()\n",
    "ax.coastlines()\n",
    "\n",
    "sc=ax.scatter(df_ifremer[vardict['lon']],df_ifremer[vardict['lat']],\n",
    "    c='r',s=5,label='BGC-Argo IFREMER',\n",
    "    transform=ccrs.PlateCarree())\n",
    "sc=ax.scatter(df_emodnet[vardict['lon']],df_emodnet[vardict['lat']],\n",
    "    c='b',s=1,label='EMODNET',\n",
    "    transform=ccrs.PlateCarree())\n",
    "    \n",
    "#plt.colorbar(sc)\n",
    "ax.legend(loc='lower center')\n",
    "plt.show()"
   ]
  },
  {
   "cell_type": "code",
   "execution_count": null,
   "id": "eb004314",
   "metadata": {},
   "outputs": [],
   "source": [
    "# latitude-depth scatterplots. Atlantic\n",
    "# Mask Atlantic\n",
    "\n",
    "plt.figure(figsize=(20,6), dpi=200)\n",
    "ax = plt.axes()\n",
    "sc=ax.scatter(pd.to_datetime(df_ifremer[vardict['datevec']]),\n",
    "           df_ifremer[vardict['pres']],\n",
    "           c=df_ifremer[vardict['ph']],\n",
    "           s=5,label='BGC-Argo IFREMER')\n",
    "ax.scatter(pd.to_datetime(df_emodnet[vardict['datevec']]),\n",
    "           df_emodnet[vardict['pres']],\n",
    "           c='y',\n",
    "           s=1,label='EMODNET')\n",
    "plt.xticks(rotation=45);\n",
    "ax.invert_yaxis();\n",
    "plt.colorbar(sc);\n",
    "#ax.legend(loc='lower center')"
   ]
  },
  {
   "cell_type": "code",
   "execution_count": null,
   "id": "0edab190",
   "metadata": {},
   "outputs": [],
   "source": [
    "print(df_emodnet.shape, df_ifremer_comp.shape)\n",
    "ax=plt.axes()\n",
    "ax.plot(df_emodnet[vardict['pres']], linewidth=5)\n",
    "ax.plot(df_ifremer_comp[vardict['pres']], c='r')\n",
    "print(df_emodnet[[vardict['pres'],vardict['ph']]].iloc[0:5])\n",
    "print(df_ifremer[[vardict['pres'],vardict['ph']]].iloc[0:5])"
   ]
  },
  {
   "cell_type": "code",
   "execution_count": null,
   "id": "a5e218be",
   "metadata": {},
   "outputs": [],
   "source": [
    "# Check duplicates\n",
    "# Use pres (decibar) from ifremer to compare the data points\n",
    "df_ifremer_comp=df_ifremer.copy()\n",
    "df_ifremer_comp.rename(\n",
    "    columns={'pres (decibar)': vardict['pres'], \n",
    "             vardict['pres']: 'pres_adjusted (decibar)'},\n",
    "        inplace=True)\n",
    "df_ifremer_comp=df_ifremer_comp.round({vardict['ph']: 3})\n",
    "print(df_ifremer_comp[[vardict['pres'],vardict['ph']]].iloc[0:5])\n",
    "print()\n",
    "dataframes=[df_emodnet,df_ifremer_comp]\n",
    "\n",
    "\n",
    "df=pd.concat(dataframes)\n",
    "print(df.shape)\n",
    "print(df.columns)\n",
    "isdup=df.duplicated(subset=[vardict['lat'],vardict['lon'],vardict['datevec'],vardict['pres'],vardict['ph']], keep=False)\n",
    "print(sum(isdup))"
   ]
  },
  {
   "cell_type": "code",
   "execution_count": null,
   "id": "8867d604",
   "metadata": {},
   "outputs": [],
   "source": [
    "df.loc[~isdup]\n",
    "#print(df_ifremer.iloc[168])\n",
    "#print(df_emodnet.iloc[168])\n",
    "print(df[~isdup].groupby('SOURCE').mean())"
   ]
  }
 ],
 "metadata": {
  "kernelspec": {
   "display_name": "Python 3 (ipykernel)",
   "language": "python",
   "name": "python3"
  },
  "language_info": {
   "codemirror_mode": {
    "name": "ipython",
    "version": 3
   },
   "file_extension": ".py",
   "mimetype": "text/x-python",
   "name": "python",
   "nbconvert_exporter": "python",
   "pygments_lexer": "ipython3",
   "version": "3.9.7"
  }
 },
 "nbformat": 4,
 "nbformat_minor": 5
}
